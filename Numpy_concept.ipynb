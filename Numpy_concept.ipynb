{
  "nbformat": 4,
  "nbformat_minor": 0,
  "metadata": {
    "colab": {
      "name": "Numpy concept",
      "provenance": []
    },
    "kernelspec": {
      "name": "python3",
      "display_name": "Python 3"
    },
    "language_info": {
      "name": "python"
    }
  },
  "cells": [
    {
      "cell_type": "code",
      "metadata": {
        "colab": {
          "base_uri": "https://localhost:8080/"
        },
        "id": "zo93haITHFie",
        "outputId": "a6c69a39-7798-4433-881a-64dc19c3add4"
      },
      "source": [
        "#Arrays: 1D,2D,3D,4D\n",
        "import numpy as np\n",
        "a = np.array([1,2,3])\n",
        "print(a)\n",
        "print(type(a)), print(a.ndim)\n",
        "a1 = np.array([[1,2,3],[4,5,6]])\n",
        "print(a1)\n",
        "print(type(a1)),print(a1.ndim)\n",
        "a2=np.array([[[1,2,3],[4,5,6],[7,8,9]]])\n",
        "print(a2)\n",
        "print(type(a2)),print(a2.ndim)\n",
        "a3=np.array([[[[1,2,3],[4,5,6],[7,8,9],[10,11,12]]]])\n",
        "print(a3)\n",
        "print(type(a3)),print(a3.ndim)"
      ],
      "execution_count": null,
      "outputs": [
        {
          "output_type": "stream",
          "name": "stdout",
          "text": [
            "[1 2 3]\n",
            "<class 'numpy.ndarray'>\n",
            "1\n",
            "[[1 2 3]\n",
            " [4 5 6]]\n",
            "<class 'numpy.ndarray'>\n",
            "2\n",
            "[[[1 2 3]\n",
            "  [4 5 6]\n",
            "  [7 8 9]]]\n",
            "<class 'numpy.ndarray'>\n",
            "3\n",
            "[[[[ 1  2  3]\n",
            "   [ 4  5  6]\n",
            "   [ 7  8  9]\n",
            "   [10 11 12]]]]\n",
            "<class 'numpy.ndarray'>\n",
            "4\n"
          ]
        },
        {
          "output_type": "execute_result",
          "data": {
            "text/plain": [
              "(None, None)"
            ]
          },
          "metadata": {},
          "execution_count": 2
        }
      ]
    },
    {
      "cell_type": "code",
      "metadata": {
        "colab": {
          "base_uri": "https://localhost:8080/"
        },
        "id": "JxbMcpmDJsfw",
        "outputId": "9a5fcbe9-d4b3-4e78-de94-61980237a12b"
      },
      "source": [
        "x = np.array([[1,23,3],[3,4,5],[4,5,6]])\n",
        "print(x), \n",
        "print(x.ndim)\n",
        "\n",
        "x1=np.array([[[1,2,3]]])\n",
        "print(x1)\n",
        "print(x1.ndim)\n",
        "\n",
        "x2=np.array([[[[1,2,3],[4,5,6]]]])\n",
        "print(x2)\n",
        "print(x2.ndim)\n",
        "\n",
        "x3=np.array([1,2,3])\n",
        "print(x3)\n",
        "print(x3.ndim)"
      ],
      "execution_count": null,
      "outputs": [
        {
          "output_type": "stream",
          "name": "stdout",
          "text": [
            "[[ 1 23  3]\n",
            " [ 3  4  5]\n",
            " [ 4  5  6]]\n",
            "2\n",
            "[[[1 2 3]]]\n",
            "3\n",
            "[[[[1 2 3]\n",
            "   [4 5 6]]]]\n",
            "4\n",
            "[1 2 3]\n",
            "1\n"
          ]
        }
      ]
    },
    {
      "cell_type": "code",
      "metadata": {
        "colab": {
          "base_uri": "https://localhost:8080/"
        },
        "id": "99BeVaZbNAJ-",
        "outputId": "fd206289-6038-4b43-b8ec-b0ae52f56687"
      },
      "source": [
        "# ###Zeros\n",
        "# np.zeros(5)\n",
        "# np.zeros(100)\n",
        "# np.zeros((2,4))\n",
        "# np.zeros((4,2))\n",
        "z=np.zeros(((2,4,2)))\n",
        "print(z)\n",
        "z.ndim\n",
        "\n",
        "z1=np.zeros((2,4,2))\n",
        "print(z1)\n",
        "z1.ndim\n"
      ],
      "execution_count": null,
      "outputs": [
        {
          "output_type": "stream",
          "name": "stdout",
          "text": [
            "[[[0. 0.]\n",
            "  [0. 0.]\n",
            "  [0. 0.]\n",
            "  [0. 0.]]\n",
            "\n",
            " [[0. 0.]\n",
            "  [0. 0.]\n",
            "  [0. 0.]\n",
            "  [0. 0.]]]\n"
          ]
        },
        {
          "output_type": "execute_result",
          "data": {
            "text/plain": [
              "3"
            ]
          },
          "metadata": {},
          "execution_count": 48
        }
      ]
    },
    {
      "cell_type": "code",
      "metadata": {
        "colab": {
          "base_uri": "https://localhost:8080/"
        },
        "id": "aaKQ3gffPTaX",
        "outputId": "ac161c8d-6ae8-4eb3-d991-2c14760a45a9"
      },
      "source": [
        "# ###ones\n",
        "# np.ones(2)\n",
        "# o=np.ones((2,2))\n",
        "# print(o)\n",
        "# o.ndim\n",
        "\n",
        "# o1=np.ones((2,2,2))\n",
        "# print(o1)\n",
        "# o1.ndim\n",
        "\n",
        "np.ones((3,1,50))"
      ],
      "execution_count": null,
      "outputs": [
        {
          "output_type": "execute_result",
          "data": {
            "text/plain": [
              "array([[[1., 1., 1., 1., 1., 1., 1., 1., 1., 1., 1., 1., 1., 1., 1., 1.,\n",
              "         1., 1., 1., 1., 1., 1., 1., 1., 1., 1., 1., 1., 1., 1., 1., 1.,\n",
              "         1., 1., 1., 1., 1., 1., 1., 1., 1., 1., 1., 1., 1., 1., 1., 1.,\n",
              "         1., 1.]],\n",
              "\n",
              "       [[1., 1., 1., 1., 1., 1., 1., 1., 1., 1., 1., 1., 1., 1., 1., 1.,\n",
              "         1., 1., 1., 1., 1., 1., 1., 1., 1., 1., 1., 1., 1., 1., 1., 1.,\n",
              "         1., 1., 1., 1., 1., 1., 1., 1., 1., 1., 1., 1., 1., 1., 1., 1.,\n",
              "         1., 1.]],\n",
              "\n",
              "       [[1., 1., 1., 1., 1., 1., 1., 1., 1., 1., 1., 1., 1., 1., 1., 1.,\n",
              "         1., 1., 1., 1., 1., 1., 1., 1., 1., 1., 1., 1., 1., 1., 1., 1.,\n",
              "         1., 1., 1., 1., 1., 1., 1., 1., 1., 1., 1., 1., 1., 1., 1., 1.,\n",
              "         1., 1.]]])"
            ]
          },
          "metadata": {},
          "execution_count": 57
        }
      ]
    },
    {
      "cell_type": "code",
      "metadata": {
        "colab": {
          "base_uri": "https://localhost:8080/"
        },
        "id": "SICMuGI0RGOO",
        "outputId": "f762ce4b-c3ee-452e-8629-8b9b815ad0b0"
      },
      "source": [
        "###Identity\n",
        "np.identity(3)\n",
        "np.identity(1)\n",
        "np.identity(5)\n",
        "np.identity((3))"
      ],
      "execution_count": null,
      "outputs": [
        {
          "output_type": "execute_result",
          "data": {
            "text/plain": [
              "array([[1., 0., 0.],\n",
              "       [0., 1., 0.],\n",
              "       [0., 0., 1.]])"
            ]
          },
          "metadata": {},
          "execution_count": 66
        }
      ]
    },
    {
      "cell_type": "code",
      "metadata": {
        "colab": {
          "base_uri": "https://localhost:8080/"
        },
        "id": "yjyTEFWDSLkc",
        "outputId": "7bd7c8f1-b743-40e8-9b43-f5cd880024ad"
      },
      "source": [
        "###Arange\n",
        "s=np.arange(4)\n",
        "s1=np.arange(1,10)\n",
        "s2=np.arange(1,10,2)\n",
        "s3=np.arange(10,1,-1)\n",
        "print(s,s1,s2,s3)\n"
      ],
      "execution_count": null,
      "outputs": [
        {
          "output_type": "stream",
          "name": "stdout",
          "text": [
            "[0 1 2 3] [1 2 3 4 5 6 7 8 9] [1 3 5 7 9] [10  9  8  7  6  5  4  3  2]\n"
          ]
        }
      ]
    },
    {
      "cell_type": "code",
      "metadata": {
        "id": "74zs7sZe7nR7",
        "colab": {
          "base_uri": "https://localhost:8080/"
        },
        "outputId": "484b7d92-6c20-46e7-f9bc-7f5a974aa1dd"
      },
      "source": [
        "###Empty : some random elements in array of given range.\n",
        "np.empty(5)          # 5 random elements\n",
        "np.empty((5,2))      # a matrices of 5*2, i.e 5 rows and 2 columns\n",
        "np.empty((2,5,2))    # first 2 is showing number of matrices, (5,2) is showing 5*2 matrix with 5 rows and 2 colums\n"
      ],
      "execution_count": null,
      "outputs": [
        {
          "output_type": "execute_result",
          "data": {
            "text/plain": [
              "array([[[4.66568854e-310, 0.00000000e+000],\n",
              "        [0.00000000e+000, 0.00000000e+000],\n",
              "        [0.00000000e+000, 0.00000000e+000],\n",
              "        [0.00000000e+000, 0.00000000e+000],\n",
              "        [0.00000000e+000, 0.00000000e+000]],\n",
              "\n",
              "       [[0.00000000e+000, 0.00000000e+000],\n",
              "        [0.00000000e+000, 0.00000000e+000],\n",
              "        [0.00000000e+000, 0.00000000e+000],\n",
              "        [0.00000000e+000, 0.00000000e+000],\n",
              "        [0.00000000e+000, 0.00000000e+000]]])"
            ]
          },
          "metadata": {},
          "execution_count": 6
        }
      ]
    },
    {
      "cell_type": "code",
      "metadata": {
        "colab": {
          "base_uri": "https://localhost:8080/"
        },
        "id": "rlmW0vI59Kci",
        "outputId": "bd5d34ea-37cb-402e-b686-7bd27db41d22"
      },
      "source": [
        "###linspace\n",
        "np.linspace(2,5)      # random elements  b/w 2 to 5 but at equal interval\n",
        "np.linspace(2,5,10)   #start point =2, end point=5, total elements = 10 at equal interval b/w 2 to 5"
      ],
      "execution_count": null,
      "outputs": [
        {
          "output_type": "execute_result",
          "data": {
            "text/plain": [
              "array([2.        , 2.33333333, 2.66666667, 3.        , 3.33333333,\n",
              "       3.66666667, 4.        , 4.33333333, 4.66666667, 5.        ])"
            ]
          },
          "metadata": {},
          "execution_count": 13
        }
      ]
    },
    {
      "cell_type": "code",
      "metadata": {
        "colab": {
          "base_uri": "https://localhost:8080/"
        },
        "id": "6YkTzB9y_A5z",
        "outputId": "21148acc-515b-44ff-feb6-c21a5d78c78d"
      },
      "source": [
        "###sum\n",
        "arr= np.array([[[1,2,3],[4,5,6],[7,8,9]]])\n",
        "print(arr)\n",
        "print(arr.sum())\n",
        "print(arr.sum(axis=0))\n",
        "print(arr.sum(axis=1))\n",
        "print(\"Sum of arr(axis = 0) : \", np.sum(arr, axis = 0)) \n",
        "print(\"sum of arr(axis = 0 : \", arr.sum(axis=0))\n",
        "print(\"Sum of arr(axis = 1) : \", np.sum(arr, axis = 1))"
      ],
      "execution_count": null,
      "outputs": [
        {
          "output_type": "stream",
          "name": "stdout",
          "text": [
            "[[[1 2 3]\n",
            "  [4 5 6]\n",
            "  [7 8 9]]]\n",
            "45\n",
            "[[1 2 3]\n",
            " [4 5 6]\n",
            " [7 8 9]]\n",
            "[[12 15 18]]\n",
            "Sum of arr(axis = 0) :  [[1 2 3]\n",
            " [4 5 6]\n",
            " [7 8 9]]\n",
            "sum of arr(axis = 0 :  [[1 2 3]\n",
            " [4 5 6]\n",
            " [7 8 9]]\n",
            "Sum of arr(axis = 1) :  [[12 15 18]]\n"
          ]
        }
      ]
    },
    {
      "cell_type": "code",
      "metadata": {
        "colab": {
          "base_uri": "https://localhost:8080/"
        },
        "id": "iOmkxTRBEeWU",
        "outputId": "564443e1-095f-4865-92a4-0722dad78bd8"
      },
      "source": [
        "### Transpose, shape, length\n",
        "import numpy as np\n",
        "a = np.array([[1,2,3],[4,5,6],[7,8,9]])\n",
        "print(a)\n",
        "print(a.T)\n",
        "print(a.shape)\n",
        "print(a.dtype)\n",
        "print(len(a))\n",
        "a.ndim\n",
        "\n"
      ],
      "execution_count": 6,
      "outputs": [
        {
          "output_type": "stream",
          "name": "stdout",
          "text": [
            "[[1 2 3]\n",
            " [4 5 6]\n",
            " [7 8 9]]\n",
            "[[1 4 7]\n",
            " [2 5 8]\n",
            " [3 6 9]]\n",
            "(3, 3)\n",
            "int64\n",
            "3\n"
          ]
        },
        {
          "output_type": "execute_result",
          "data": {
            "text/plain": [
              "2"
            ]
          },
          "metadata": {},
          "execution_count": 6
        }
      ]
    },
    {
      "cell_type": "code",
      "metadata": {
        "colab": {
          "base_uri": "https://localhost:8080/"
        },
        "id": "q7MQue4uCFk6",
        "outputId": "a97c0738-71e7-4fdf-a1e2-ac1fc894c693"
      },
      "source": [
        "myarr=np.array(1)\n",
        "print(myarr)\n",
        "print(myarr.ndim)\n",
        "# print(len(myarr))\n",
        "\n",
        "### elemnts specification\n",
        "myarr = np.array([2,3,6,7])\n",
        "print(myarr)\n",
        "myarr[2]=200\n",
        "print(myarr)\n",
        "\n",
        "\n",
        "\n"
      ],
      "execution_count": 15,
      "outputs": [
        {
          "output_type": "stream",
          "name": "stdout",
          "text": [
            "[2 3 6 7]\n",
            "[  2   3 200   7]\n"
          ]
        }
      ]
    }
  ]
}